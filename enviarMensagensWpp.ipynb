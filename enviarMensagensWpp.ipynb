{
 "cells": [
  {
   "cell_type": "code",
   "execution_count": 12,
   "id": "0a7d53fc-0620-4c80-9efc-02aade18b834",
   "metadata": {},
   "outputs": [
    {
     "data": {
      "text/html": [
       "<div>\n",
       "<style scoped>\n",
       "    .dataframe tbody tr th:only-of-type {\n",
       "        vertical-align: middle;\n",
       "    }\n",
       "\n",
       "    .dataframe tbody tr th {\n",
       "        vertical-align: top;\n",
       "    }\n",
       "\n",
       "    .dataframe thead th {\n",
       "        text-align: right;\n",
       "    }\n",
       "</style>\n",
       "<table border=\"1\" class=\"dataframe\">\n",
       "  <thead>\n",
       "    <tr style=\"text-align: right;\">\n",
       "      <th></th>\n",
       "      <th>1</th>\n",
       "      <th>Fernanda Almeida</th>\n",
       "      <th>79998099276</th>\n",
       "    </tr>\n",
       "  </thead>\n",
       "  <tbody>\n",
       "    <tr>\n",
       "      <th>0</th>\n",
       "      <td>2</td>\n",
       "      <td>Geyzon Braz</td>\n",
       "      <td>79991227601</td>\n",
       "    </tr>\n",
       "    <tr>\n",
       "      <th>1</th>\n",
       "      <td>3</td>\n",
       "      <td>Jônatas Henrique</td>\n",
       "      <td>79998202911</td>\n",
       "    </tr>\n",
       "    <tr>\n",
       "      <th>2</th>\n",
       "      <td>4</td>\n",
       "      <td>Rebeca Adrião</td>\n",
       "      <td>79996860064</td>\n",
       "    </tr>\n",
       "    <tr>\n",
       "      <th>3</th>\n",
       "      <td>5</td>\n",
       "      <td>Raquel Adrião</td>\n",
       "      <td>79981161001</td>\n",
       "    </tr>\n",
       "  </tbody>\n",
       "</table>\n",
       "</div>"
      ],
      "text/plain": [
       "   1  Fernanda Almeida  79998099276\n",
       "0  2       Geyzon Braz  79991227601\n",
       "1  3  Jônatas Henrique  79998202911\n",
       "2  4     Rebeca Adrião  79996860064\n",
       "3  5     Raquel Adrião  79981161001"
      ]
     },
     "metadata": {},
     "output_type": "display_data"
    }
   ],
   "source": [
    "import pandas as pd\n",
    "\n",
    "contatos_df = pd.read_excel(\"teste.xlsx\")\n",
    "display(contatos_df)"
   ]
  },
  {
   "cell_type": "code",
   "execution_count": 16,
   "id": "6d9db368-36ec-414c-8380-0da416c71884",
   "metadata": {},
   "outputs": [
    {
     "name": "stdout",
     "output_type": "stream",
     "text": [
      "WhatsApp Web carregado com sucesso!\n"
     ]
    }
   ],
   "source": [
    "from selenium import webdriver\n",
    "from selenium.webdriver.common.keys import Keys\n",
    "from selenium.webdriver.common.by import By\n",
    "from selenium.webdriver.support.ui import WebDriverWait\n",
    "from selenium.webdriver.support import expected_conditions as EC\n",
    "import time\n",
    "import pandas as pd\n",
    "import re\n",
    "import urllib.parse\n",
    "\n",
    "# Função para padronizar o telefone\n",
    "def padronizar_telefone(numero):\n",
    "    numero = str(numero)\n",
    "    numero = re.sub(r'\\D', '', numero)\n",
    "    return f'55{numero}'\n",
    "\n",
    "# Carregar dados da planilha (sem cabeçalhos)\n",
    "contatos_df = pd.read_excel('teste.xlsx', header=None, names=['Nome', 'Telefone'])\n",
    "\n",
    "# Inicializa o navegador\n",
    "navegador = webdriver.Chrome()\n",
    "navegador.get(\"https://web.whatsapp.com/\")\n",
    "\n",
    "# Aguarda até o WhatsApp Web estar carregado\n",
    "wait = WebDriverWait(navegador, 60)\n",
    "\n",
    "try:\n",
    "    # Aguarda a presença de um elemento específico do WhatsApp Web\n",
    "    wait.until(EC.presence_of_element_located((By.XPATH, '//div[@id=\"pane-side\"]')))\n",
    "    print(\"WhatsApp Web carregado com sucesso!\")\n",
    "except Exception as e:\n",
    "    print(f\"Erro ao carregar WhatsApp Web: {e}\")\n",
    "    navegador.quit()\n",
    "    exit()\n",
    "\n",
    "# Enviar mensagens\n",
    "for i, row in contatos_df.iterrows():\n",
    "    nome = row['Nome']\n",
    "    telefone = padronizar_telefone(row['Telefone'])\n",
    "    mensagem = f\"Oi, {nome}! Esta é uma mensagem automática.\"\n",
    "    \n",
    "    texto = urllib.parse.quote(mensagem)\n",
    "    link = f\"https://web.whatsapp.com/send?phone={telefone}&text={texto}\"\n",
    "    \n",
    "    navegador.get(link)\n",
    "    \n",
    "    # Aguarda o carregamento da tela de conversa\n",
    "    try:\n",
    "        # Aguarda o campo de mensagem ficar visível e interativo\n",
    "        input_box = wait.until(EC.element_to_be_clickable((By.XPATH, '//*[@id=\"main\"]/footer/div[1]/div/span[2]/div/div[2]/div[1]')))\n",
    "        input_box.send_keys(Keys.ENTER)\n",
    "        time.sleep(10)  # Aguarda o envio da mensagem\n",
    "    except Exception as e:\n",
    "        print(f\"Erro ao enviar mensagem para {telefone}: {e}\")\n",
    "\n",
    "# Fecha o navegador\n",
    "navegador.quit()\n",
    "\n",
    "\n"
   ]
  },
  {
   "cell_type": "code",
   "execution_count": null,
   "id": "a7104bf5-83c8-4764-b25d-0a624c0261d8",
   "metadata": {},
   "outputs": [],
   "source": []
  }
 ],
 "metadata": {
  "kernelspec": {
   "display_name": "Python 3 (ipykernel)",
   "language": "python",
   "name": "python3"
  },
  "language_info": {
   "codemirror_mode": {
    "name": "ipython",
    "version": 3
   },
   "file_extension": ".py",
   "mimetype": "text/x-python",
   "name": "python",
   "nbconvert_exporter": "python",
   "pygments_lexer": "ipython3",
   "version": "3.12.4"
  }
 },
 "nbformat": 4,
 "nbformat_minor": 5
}
